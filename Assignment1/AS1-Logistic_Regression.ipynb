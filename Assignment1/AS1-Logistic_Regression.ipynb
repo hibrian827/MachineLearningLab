{
 "cells": [
  {
   "cell_type": "markdown",
   "metadata": {
    "id": "t6j5WcA3GbSk"
   },
   "source": [
    "# M2608.002900 기계학습 기초 <br> Assignment 1: Logistic Regression"
   ]
  },
  {
   "cell_type": "markdown",
   "metadata": {
    "id": "h9SLZYvrD1cm"
   },
   "source": [
    "# Setup\n",
    "Check that Python 3.5 or later is installed (although Python 2.x may work, it is deprecated so we strongly recommend you use Python 3 instead), as well as Scikit-Learn 0.20 or later is installed."
   ]
  },
  {
   "cell_type": "code",
   "execution_count": 2,
   "metadata": {},
   "outputs": [
    {
     "name": "stdout",
     "output_type": "stream",
     "text": [
      "Defaulting to user installation because normal site-packages is not writeable\n",
      "Requirement already satisfied: torchvision in /home/hibrian827/.local/lib/python3.10/site-packages (0.21.0)\n",
      "Requirement already satisfied: pillow!=8.3.*,>=5.3.0 in /usr/lib/python3/dist-packages (from torchvision) (9.0.1)\n",
      "Requirement already satisfied: numpy in /usr/lib/python3/dist-packages (from torchvision) (1.21.5)\n",
      "Requirement already satisfied: torch==2.6.0 in /home/hibrian827/.local/lib/python3.10/site-packages (from torchvision) (2.6.0)\n",
      "Requirement already satisfied: typing-extensions>=4.10.0 in /home/hibrian827/.local/lib/python3.10/site-packages (from torch==2.6.0->torchvision) (4.13.1)\n",
      "Requirement already satisfied: nvidia-nvtx-cu12==12.4.127 in /home/hibrian827/.local/lib/python3.10/site-packages (from torch==2.6.0->torchvision) (12.4.127)\n",
      "Requirement already satisfied: nvidia-cusparselt-cu12==0.6.2 in /home/hibrian827/.local/lib/python3.10/site-packages (from torch==2.6.0->torchvision) (0.6.2)\n",
      "Requirement already satisfied: networkx in /home/hibrian827/.local/lib/python3.10/site-packages (from torch==2.6.0->torchvision) (3.4.2)\n",
      "Requirement already satisfied: nvidia-nccl-cu12==2.21.5 in /home/hibrian827/.local/lib/python3.10/site-packages (from torch==2.6.0->torchvision) (2.21.5)\n",
      "Requirement already satisfied: nvidia-cuda-cupti-cu12==12.4.127 in /home/hibrian827/.local/lib/python3.10/site-packages (from torch==2.6.0->torchvision) (12.4.127)\n",
      "Requirement already satisfied: triton==3.2.0 in /home/hibrian827/.local/lib/python3.10/site-packages (from torch==2.6.0->torchvision) (3.2.0)\n",
      "Requirement already satisfied: sympy==1.13.1 in /home/hibrian827/.local/lib/python3.10/site-packages (from torch==2.6.0->torchvision) (1.13.1)\n",
      "Requirement already satisfied: filelock in /home/hibrian827/.local/lib/python3.10/site-packages (from torch==2.6.0->torchvision) (3.18.0)\n",
      "Requirement already satisfied: nvidia-cuda-runtime-cu12==12.4.127 in /home/hibrian827/.local/lib/python3.10/site-packages (from torch==2.6.0->torchvision) (12.4.127)\n",
      "Requirement already satisfied: nvidia-nvjitlink-cu12==12.4.127 in /home/hibrian827/.local/lib/python3.10/site-packages (from torch==2.6.0->torchvision) (12.4.127)\n",
      "Requirement already satisfied: nvidia-cusparse-cu12==12.3.1.170 in /home/hibrian827/.local/lib/python3.10/site-packages (from torch==2.6.0->torchvision) (12.3.1.170)\n",
      "Requirement already satisfied: nvidia-cusolver-cu12==11.6.1.9 in /home/hibrian827/.local/lib/python3.10/site-packages (from torch==2.6.0->torchvision) (11.6.1.9)\n",
      "Requirement already satisfied: nvidia-cublas-cu12==12.4.5.8 in /home/hibrian827/.local/lib/python3.10/site-packages (from torch==2.6.0->torchvision) (12.4.5.8)\n",
      "Requirement already satisfied: nvidia-curand-cu12==10.3.5.147 in /home/hibrian827/.local/lib/python3.10/site-packages (from torch==2.6.0->torchvision) (10.3.5.147)\n",
      "Requirement already satisfied: jinja2 in /home/hibrian827/.local/lib/python3.10/site-packages (from torch==2.6.0->torchvision) (3.1.6)\n",
      "Requirement already satisfied: fsspec in /home/hibrian827/.local/lib/python3.10/site-packages (from torch==2.6.0->torchvision) (2025.3.2)\n",
      "Requirement already satisfied: nvidia-cuda-nvrtc-cu12==12.4.127 in /home/hibrian827/.local/lib/python3.10/site-packages (from torch==2.6.0->torchvision) (12.4.127)\n",
      "Requirement already satisfied: nvidia-cudnn-cu12==9.1.0.70 in /home/hibrian827/.local/lib/python3.10/site-packages (from torch==2.6.0->torchvision) (9.1.0.70)\n",
      "Requirement already satisfied: nvidia-cufft-cu12==11.2.1.3 in /home/hibrian827/.local/lib/python3.10/site-packages (from torch==2.6.0->torchvision) (11.2.1.3)\n",
      "Requirement already satisfied: mpmath<1.4,>=1.1.0 in /home/hibrian827/.local/lib/python3.10/site-packages (from sympy==1.13.1->torch==2.6.0->torchvision) (1.3.0)\n",
      "Requirement already satisfied: MarkupSafe>=2.0 in /home/hibrian827/.local/lib/python3.10/site-packages (from jinja2->torch==2.6.0->torchvision) (2.1.5)\n"
     ]
    }
   ],
   "source": [
    "# Install required library (might take a while)\n",
    "!pip install torchvision"
   ]
  },
  {
   "cell_type": "code",
   "execution_count": 3,
   "metadata": {
    "id": "RABKSi6ED1cm"
   },
   "outputs": [],
   "source": [
    "# Python >=3.5 is required\n",
    "import sys\n",
    "assert sys.version_info >= (3, 5)\n",
    "\n",
    "# Scikit-Learn >=0.20 is required\n",
    "import sklearn\n",
    "assert sklearn.__version__ >= \"0.20\"\n",
    "\n",
    "# Common imports\n",
    "import numpy as np\n",
    "import os\n",
    "\n",
    "# to make this notebook's output stable across runs\n",
    "np.random.seed(42)\n",
    "\n",
    "# To plot pretty figures\n",
    "%matplotlib inline\n",
    "import matplotlib as mpl\n",
    "import matplotlib.pyplot as plt\n",
    "mpl.rc('axes', labelsize=14)\n",
    "mpl.rc('xtick', labelsize=12)\n",
    "mpl.rc('ytick', labelsize=12)"
   ]
  },
  {
   "cell_type": "markdown",
   "metadata": {
    "id": "ei9BMeksGbSn"
   },
   "source": [
    "## Dataset load & Plot"
   ]
  },
  {
   "cell_type": "code",
   "execution_count": 4,
   "metadata": {
    "id": "Vlb19coAGbSo"
   },
   "outputs": [],
   "source": [
    "%matplotlib inline\n",
    "import numpy as np\n",
    "import matplotlib.pyplot as plt\n",
    "from sklearn.linear_model import LogisticRegression\n",
    "from warnings import filterwarnings\n",
    "filterwarnings('ignore')"
   ]
  },
  {
   "cell_type": "code",
   "execution_count": 5,
   "metadata": {
    "id": "xV9Z9RPMGbSt",
    "scrolled": true
   },
   "outputs": [
    {
     "data": {
      "image/png": "[encoded data removed]",
      "text/plain": [
       "<Figure size 640x480 with 1 Axes>"
      ]
     },
     "metadata": {},
     "output_type": "display_data"
    }
   ],
   "source": [
    "data = np.loadtxt('data.csv', delimiter=',')\n",
    "X = data[:, :2]\n",
    "y = data[:, 2]\n",
    "label_mask = np.equal(y, 1)\n",
    "\n",
    "plt.scatter(X[:, 0][label_mask], X[:, 1][label_mask], color='red')\n",
    "plt.scatter(X[:, 0][~label_mask], X[:, 1][~label_mask], color='blue')\n",
    "plt.show()"
   ]
  },
  {
   "cell_type": "markdown",
   "metadata": {
    "id": "kwcWe3pDGbSy"
   },
   "source": [
    "## Problem 0-1. sklearn model로 Logistic Regression 모델 train 시켜보기\n",
    "scikit-learn library의 LogisticRegression 클래스를 이용해 train 시켜 보세요. <br>\n",
    "클래스 인자 및 사용법에 관한 자세한 설명은 scikit-learn 홈페이지의 설명을 참고해 주세요. <br>\n",
    "(참고: https://scikit-learn.org/stable/modules/generated/sklearn.linear_model.LogisticRegression.html)\n",
    "\n",
    "코드 구현에 LLM(Chat-GPT, Gemini, GROK 등)을 보조 도구로 활용하여도 됩니다."
   ]
  },
  {
   "cell_type": "code",
   "execution_count": 6,
   "metadata": {
    "id": "ONWQ_Q5yGbS0"
   },
   "outputs": [],
   "source": [
    "def learn_and_return_weights(X: np.ndarray, y: np.ndarray) -> tuple[np.ndarray, float]:\n",
    "    from sklearn.linear_model import LogisticRegression\n",
    "    # YOUR CODE COMES HERE\n",
    "    # w: coefficient of the model to input features,\n",
    "    # b: bias of the model\n",
    "    model = LogisticRegression(max_iter=1000)\n",
    "    model.fit(X, y)\n",
    "    w = model.coef_[0]\n",
    "    b = model.intercept_[0] \n",
    "    return w, b"
   ]
  },
  {
   "cell_type": "code",
   "execution_count": 7,
   "metadata": {
    "id": "HkQB55lkGbS3"
   },
   "outputs": [
    {
     "data": {
      "image/png": "[encoded data removed]",
      "text/plain": [
       "<Figure size 640x480 with 1 Axes>"
      ]
     },
     "metadata": {},
     "output_type": "display_data"
    }
   ],
   "source": [
    "def plot_data_and_weights(X, y, w, b):\n",
    "    plt.scatter(X[:, 0][label_mask], X[:, 1][label_mask], color='red')\n",
    "    plt.scatter(X[:, 0][~label_mask], X[:, 1][~label_mask], color='blue')\n",
    "\n",
    "    x_lin = np.arange(20, 70)\n",
    "    y_lin = -(b + w[0] * x_lin) / w[1]\n",
    "\n",
    "    plt.plot(x_lin, y_lin, color='black');\n",
    "    plt.show()\n",
    "\n",
    "w, b = learn_and_return_weights(X, y)\n",
    "plot_data_and_weights(X, y, w, b)"
   ]
  },
  {
   "cell_type": "markdown",
   "metadata": {
    "id": "jKYz83ecGbS6"
   },
   "source": [
    "## Problem 0-2. numpy로 Logistic Regression 구현해보기\n",
    "scikit-learn library를 사용하지 않고 numpy를 활용하여 Logistic Regression을 구현해보세요.\n",
    "\n",
    "코드 구현에 LLM(Chat-GPT, Gemini, GROK 등)을 보조 도구로 활용하여도 됩니다."
   ]
  },
  {
   "cell_type": "code",
   "execution_count": 8,
   "metadata": {
    "id": "eGTRLxvsGbS7"
   },
   "outputs": [],
   "source": [
    "def sigmoid(z: np.ndarray) -> np.ndarray:\n",
    "    # YOUR CODE COMES HERE\n",
    "    return 1 / (1 + np.exp(-z))\n",
    "\n",
    "def binary_cross_entropy_loss(y_pred: np.ndarray, target: np.ndarray) -> float:\n",
    "    # YOUR CODE COMES HERE\n",
    "    epsilon = 1e-15\n",
    "    y_pred = np.clip(y_pred, epsilon, 1 - epsilon)\n",
    "    loss = -np.mean(target * np.log(y_pred) + (1 - target) * np.log(1 - y_pred))\n",
    "    return loss\n",
    "\n",
    "def learn_and_return_weights_numpy(X: np.ndarray, Y: np.ndarray, lr: float = 0.01, iter: int = 100000) -> tuple[np.ndarray, float]:\n",
    "    # YOUR CODE COMES HERE\n",
    "    # w: coefficient of the model to input features,\n",
    "    # b: bias of the model\n",
    "    m, n = X.shape\n",
    "    W = np.zeros(n)\n",
    "    b = 0.0\n",
    "\n",
    "    for i in range(iter):\n",
    "        z = np.dot(X, W) + b\n",
    "        y_pred = sigmoid(z)\n",
    "\n",
    "        # Compute gradients\n",
    "        dw = np.dot(X.T, (y_pred - Y)) / m\n",
    "        db = np.mean(y_pred - Y)\n",
    "\n",
    "        # Update weights\n",
    "        W -= lr * dw\n",
    "        b -= lr * db\n",
    "    return W, b\n",
    "    return W, b"
   ]
  },
  {
   "cell_type": "code",
   "execution_count": 9,
   "metadata": {
    "id": "ryO_ItqRGbS_"
   },
   "outputs": [
    {
     "data": {
      "image/png": "[encoded data removed]",
      "text/plain": [
       "<Figure size 640x480 with 1 Axes>"
      ]
     },
     "metadata": {},
     "output_type": "display_data"
    },
    {
     "name": "stdout",
     "output_type": "stream",
     "text": [
      "Binary cross entropy loss: 9.992007221626413e-16\n"
     ]
    }
   ],
   "source": [
    "w, b = 0, 0\n",
    "w, b = learn_and_return_weights_numpy(X, y)\n",
    "plot_data_and_weights(X, y, w, b)\n",
    "\n",
    "z = np.dot(X, w) + b\n",
    "y_output = sigmoid(z)\n",
    "bce = binary_cross_entropy_loss(y_output,y)\n",
    "if np.isnan(bce) == True:\n",
    "    print('You need to make sure your binary cross entropy loss function is correct,\\nor add a small number (e.g. 1e-10) to the argument of the logarithm to make sure the argument of the logarithm is not zero.')\n",
    "else:\n",
    "    print('Binary cross entropy loss:', bce)"
   ]
  },
  {
   "cell_type": "markdown",
   "metadata": {
    "collapsed": true,
    "id": "v_DaRCDGHJZ5"
   },
   "source": [
    "## Problem 1-1. Logistic Regression으로 multi-class classification 하기: API 활용하기\n",
    "scikit-learn library의 Logistic Regression API를 활용하면 multi-class classification을 간단하게 수행할 수 있습니다.<br>\n",
    "MNIST dataset에 대해 multi-class classification을 위한 Logistic Regression 모델을 학습시키고, test data에 대한 accuracy를 계산해 보세요.\n",
    "\n",
    "**2개 이상의 LLM을 활용하여 코드를 구현하고, 구현 결과를 비교 분석하여 보고서에 작성하세요.**"
   ]
  },
  {
   "cell_type": "code",
   "execution_count": 10,
   "metadata": {
    "id": "JJNyQWnuGbTL"
   },
   "outputs": [],
   "source": [
    "def get_dataset():\n",
    "    from torchvision.datasets import MNIST\n",
    "    train_data = MNIST(root = './data', train=True, download=True)\n",
    "    test_data = MNIST(root = './data', train=False, download=True)\n",
    "    x_train = train_data.data.numpy()\n",
    "    y_train = train_data.targets.numpy()\n",
    "    x_test = test_data.data.numpy()\n",
    "    y_test = test_data.targets.numpy()\n",
    "    x_train = x_train.reshape((-1, 28 * 28)).astype(np.float32)\n",
    "    x_test = x_test.reshape((-1, 28 * 28)).astype(np.float32)\n",
    "    return (x_train, y_train), (x_test, y_test)\n",
    "(x_train, y_train), (x_test, y_test) = get_dataset()\n",
    "\n",
    "num_classes = 10"
   ]
  },
  {
   "cell_type": "code",
   "execution_count": 11,
   "metadata": {
    "id": "1Hi81olzGbTT"
   },
   "outputs": [],
   "source": [
    "def learn_mul(X: np.ndarray, y: np.ndarray) -> LogisticRegression:\n",
    "    ################# YOUR CODE COMES HERE ######################\n",
    "    # training and return the multi-class logistic model\n",
    "    \n",
    "    # Initialize the logistic regression model\n",
    "    # Using 'multinomial' solver for multi-class problems\n",
    "    # 'lbfgs' is an optimization algorithm that works well for multi-class logistic regression\n",
    "    lr = LogisticRegression(\n",
    "        multi_class='multinomial',  # Use multinomial for true multi-class\n",
    "        solver='lbfgs',             # Efficient optimizer for multinomial LR\n",
    "        max_iter=1000,              # Increase max iterations for convergence\n",
    "        C=1.0,                      # Regularization strength (inverse)\n",
    "        random_state=42             # For reproducibility\n",
    "    )\n",
    "    \n",
    "    # Train the model on the input data\n",
    "    lr.fit(X, y)\n",
    "    #############################################################\n",
    "    return lr\n",
    "\n",
    "def inference_mul(x: np.ndarray, lr_model: LogisticRegression) -> np.ndarray:\n",
    "    ################# YOUR CODE COMES HERE ######################\n",
    "    # inference model and return predicted y values\n",
    "    \n",
    "    # Use the trained model to predict class labels\n",
    "    y_pred = lr_model.predict(x)\n",
    "    \n",
    "    # Alternative: If you need probabilities instead of class labels\n",
    "    # y_pred_proba = lr_model.predict_proba(x)\n",
    "    \n",
    "    #############################################################\n",
    "    return y_pred"
   ]
  },
  {
   "cell_type": "code",
   "execution_count": 12,
   "metadata": {
    "id": "bfdTZNUYGbTW"
   },
   "outputs": [
    {
     "name": "stdout",
     "output_type": "stream",
     "text": [
      "Accuracy: 0.9214\n"
     ]
    }
   ],
   "source": [
    "model = learn_mul(x_train, y_train)\n",
    "preds = inference_mul(x_test, model)\n",
    "accuracy = np.sum(preds == y_test) / y_test.shape[0]\n",
    "print('Accuracy:', accuracy)"
   ]
  },
  {
   "cell_type": "markdown",
   "metadata": {
    "collapsed": true,
    "id": "2OLcsStrGbTK"
   },
   "source": [
    "## Problem 1-2. Logistic Regression으로 multi-class classification 하기: Transformation to Binary\n",
    "\n",
    "Logistic Regression은 기본적으로 binary classifier 입니다. 즉, input *X*를 2개의 class로 밖에 분류하지 못합니다.<br>\n",
    "하지만, 이같은 Logistic Regression 모델을 연달아 사용한다면 data를 여러 class로 분류할 수도 있습니다.<br>\n",
    "(참고: https://en.wikipedia.org/wiki/Multiclass_classification#Transformation_to_binary)\n",
    "\n",
    "MNIST dataset을 이용하여 (class 수) 개의 Binary classifier (Logistic Regression)를 'lrs'의 각 원소에 저장한 뒤,<br>\n",
    "학습시킨 모델들을 이용하여 test data에 대한 accuracy를 계산해 보세요.<br>\n",
    "(각 모델의 training iteration은 10회면 충분합니다.)\n",
    "\n",
    "**2개 이상의 LLM을 활용하여 코드를 구현하고, 구현 결과를 비교 분석하여 보고서에 작성하세요.**"
   ]
  },
  {
   "cell_type": "code",
   "execution_count": 13,
   "metadata": {
    "id": "mlYDigjwGbTO"
   },
   "outputs": [],
   "source": [
    "def learn_mul2bin(X: np.ndarray, y: np.ndarray, num_classes: int) -> list[LogisticRegression]:\n",
    "    lrs = []\n",
    "    ordinal = lambda n: \"%d%s\" % (n,\"tsnrhtdd\"[(n/10%10!=1)*(n%10<4)*n%10::4])\n",
    "    for i in range(num_classes):\n",
    "        print('training %s classifier'%(ordinal(i+1)))\n",
    "        ################# YOUR CODE COMES HERE ######################\n",
    "        # training and return the multi-class logistic model\n",
    "\n",
    "        #############################################################\n",
    "        \n",
    "        # training and return the multi-class logistic model\n",
    "        \n",
    "        # Create binary labels for class i (1 for class i, 0 for all other classes)\n",
    "        y_binary = (y == i).astype(int)\n",
    "        \n",
    "        # Create and train a binary logistic regression model\n",
    "        lr = LogisticRegression(\n",
    "            solver='liblinear',  # Efficient for binary classification\n",
    "            C=1.0,               # Regularization strength (inverse)\n",
    "            max_iter=1000,       # Increase iterations for better convergence\n",
    "            random_state=42      # For reproducibility\n",
    "        )\n",
    "        \n",
    "        # Train the model\n",
    "        lr.fit(X, y_binary)\n",
    "        \n",
    "        # Add the trained model to our list\n",
    "        lrs.append(lr)\n",
    "\n",
    "    return lrs\n",
    "\n",
    "def inference_mul2bin(X: np.ndarray, lrs: list[LogisticRegression]) -> int:\n",
    "    ################# YOUR CODE COMES HERE ######################\n",
    "    # inference model and return predicted y values\n",
    "\n",
    "    #############################################################\n",
    "    \n",
    "    # X is a single sample in this case (from the usage context)\n",
    "    # Reshape it to ensure it's 2D for sklearn (1 sample, n_features)\n",
    "    if X.ndim == 1:\n",
    "        X = X.reshape(1, -1)\n",
    "        \n",
    "    # Get probability scores for each binary classifier\n",
    "    scores = []\n",
    "    for lr in lrs:\n",
    "        # Get probability of the positive class (class 1)\n",
    "        # predict_proba returns [[prob_class0, prob_class1]]\n",
    "        score = lr.predict_proba(X)[0, 1]\n",
    "        scores.append(score)\n",
    "    \n",
    "    # Return the class with the highest probability\n",
    "    y_pred = np.argmax(scores)\n",
    "    \n",
    "    return y_pred"
   ]
  },
  {
   "cell_type": "code",
   "execution_count": 14,
   "metadata": {
    "id": "tKF3C-4OGbTR"
   },
   "outputs": [
    {
     "name": "stdout",
     "output_type": "stream",
     "text": [
      "training 1st classifier\n",
      "training 2nd classifier\n",
      "training 3rd classifier\n",
      "training 4th classifier\n",
      "training 5th classifier\n",
      "training 6th classifier\n",
      "training 7th classifier\n",
      "training 8th classifier\n",
      "training 9th classifier\n",
      "training 10th classifier\n",
      "Accuracy: 0.9177\n"
     ]
    }
   ],
   "source": [
    "num_classes = 10\n",
    "\n",
    "models = learn_mul2bin(x_train, y_train, num_classes)\n",
    "preds = np.array([inference_mul2bin(x, models) for x in x_test])\n",
    "accuracy = np.sum(preds == y_test) / y_test.shape[0]\n",
    "print('Accuracy:', accuracy)"
   ]
  },
  {
   "cell_type": "markdown",
   "metadata": {
    "id": "RZU2mqKXEkVf"
   },
   "source": [
    "## Problem 2. Logistic Regression을 활용한 임의의 데이터셋 분류 실습\n",
    "\n",
    "**이번 문제에서는 seaborn 라이브러리의 titanic dataset을 활용하여 분류를 실습해볼 것입니다.** titanic dataset은 1912년 타이타닉 호 침몰 사고 당시 승객들의 정보를 담고 있으며, 생존 여부를 비롯한 다양한 특성으로 구성된 데이터셋입니다. 해당 데이터셋에 존재하는 승객들의 다양한 특성들을 활용하여 승객의 생존 여부를 logistic regression 알고리즘으로 분류하는 실습을 진행해보겠습니다.\n",
    "\n",
    "자세히 설명하자면, 승객의 성별(sex), 나이(age), 탑승 요금(fare), 객실 등급(class), 함께 탑승한 가족 구성원 수(sibsp, parch), 탑승한 도시(embark_town), 혼자 탑승했는 지 여부(alone)을 활용하여 생존 여부(survived)를 예측합니다.  \n",
    "데이터셋에 대한 추가적인 설명은 아래 링크를 참조하세요.   \n",
    "(참고: https://www.kaggle.com/c/titanic/data)\n",
    "\n",
    "앞의 실습 내용들을 참고하여 numpy로 여러 변수에 대한 logistic regression을 구현하세요.  \n",
    "LLM을 도구로 활용하여 구현하여도 괜찮습니다.  \n",
    "\n",
    "**※ 수업 시간에 배운 logistic regression의 성능을 올리기 위한 여러 방식들을 활용하여 최대한 성능을 높여보세요.**  \n",
    "(ex. L1, L2 regularization, polynomial features 등)"
   ]
  },
  {
   "cell_type": "code",
   "execution_count": 15,
   "metadata": {
    "id": "1nYKfA4tFAQb"
   },
   "outputs": [
    {
     "ename": "ModuleNotFoundError",
     "evalue": "No module named 'seaborn'",
     "output_type": "error",
     "traceback": [
      "\u001b[0;31m---------------------------------------------------------------------------\u001b[0m",
      "\u001b[0;31mModuleNotFoundError\u001b[0m                       Traceback (most recent call last)",
      "Cell \u001b[0;32mIn[15], line 2\u001b[0m\n\u001b[1;32m      1\u001b[0m \u001b[38;5;66;03m################################### Dataset Preprocessing #############################################\u001b[39;00m\n\u001b[0;32m----> 2\u001b[0m \u001b[38;5;28;01mimport\u001b[39;00m \u001b[38;5;21;01mseaborn\u001b[39;00m \u001b[38;5;28;01mas\u001b[39;00m \u001b[38;5;21;01msns\u001b[39;00m\n\u001b[1;32m      3\u001b[0m \u001b[38;5;28;01mimport\u001b[39;00m \u001b[38;5;21;01mpandas\u001b[39;00m \u001b[38;5;28;01mas\u001b[39;00m \u001b[38;5;21;01mpd\u001b[39;00m\n\u001b[1;32m      4\u001b[0m \u001b[38;5;28;01mfrom\u001b[39;00m \u001b[38;5;21;01msklearn\u001b[39;00m\u001b[38;5;21;01m.\u001b[39;00m\u001b[38;5;21;01mpreprocessing\u001b[39;00m \u001b[38;5;28;01mimport\u001b[39;00m StandardScaler, OneHotEncoder\n",
      "\u001b[0;31mModuleNotFoundError\u001b[0m: No module named 'seaborn'"
     ]
    }
   ],
   "source": [
    "################################### Dataset Preprocessing #############################################\n",
    "import seaborn as sns\n",
    "import pandas as pd\n",
    "from sklearn.preprocessing import StandardScaler, OneHotEncoder\n",
    "\n",
    "df = sns.load_dataset('titanic')\n",
    "\n",
    "# 데이터 확인\n",
    "print(df.head())\n",
    "\n",
    "df = df[['sex', 'age', 'fare', 'class', 'sibsp', 'parch', 'embark_town', 'alone', 'survived']].dropna()\n",
    "\n",
    "# 범주형 데이터 인코딩\n",
    "df['sex'] = df['sex'].map({'male': 0, 'female': 1})   # 성별 숫자로 변환\n",
    "df['class'] = df['class'].map({'First': 1, 'Second': 2, 'Third': 3})  # 좌석 등급 숫자로 변환\n",
    "df['alone'] = df['alone'].astype(int)  # 혼자 탑승 여부 (Boolean → int 변환)\n",
    "\n",
    "# 원핫 인코딩 (탑승 도시)\n",
    "df = pd.get_dummies(df, columns=['embark_town'], drop_first=True)\n",
    "\n",
    "X = df.drop(columns=['survived'])\n",
    "y = df['survived']"
   ]
  },
  {
   "cell_type": "code",
   "execution_count": null,
   "metadata": {
    "id": "roG_4gRnhCqO"
   },
   "outputs": [],
   "source": [
    "from sklearn.model_selection import train_test_split\n",
    "\n",
    "# 데이터 분할 (80% 학습, 20% 테스트)\n",
    "X_train, X_test, y_train, y_test = train_test_split(X, y, test_size=0.2, random_state=42)\n",
    "\n",
    "scaler = StandardScaler()\n",
    "X_train_scaled = scaler.fit_transform(X_train)\n",
    "X_test_scaled = scaler.transform(X_test)"
   ]
  },
  {
   "cell_type": "code",
   "execution_count": null,
   "metadata": {
    "colab": {
     "base_uri": "https://localhost:8080/",
     "height": 111
    },
    "executionInfo": {
     "elapsed": 19,
     "status": "error",
     "timestamp": 1740319207067,
     "user": {
      "displayName": "Cody Song",
      "userId": "05250416816858502527"
     },
     "user_tz": -540
    },
    "id": "Qh08tR7QEkkD",
    "outputId": "10fec2c1-6f0f-47ad-ee02-d0928105243f"
   },
   "outputs": [],
   "source": [
    "import numpy as np\n",
    "from sklearn.metrics import accuracy_score\n",
    "\n",
    "class LogisticRegression:\n",
    "    def __init__(self, ): # <<< You can add your own input parameters\n",
    "        ################# YOUR CODE COMES HERE ######################\n",
    "        # initialize class member variable\n",
    "\n",
    "        #############################################################\n",
    "\n",
    "    def sigmoid(self, z):\n",
    "        # YOUR CODE COMES HERE\n",
    "        return\n",
    "\n",
    "    def fit(self, X, y):\n",
    "        ################# YOUR CODE COMES HERE ######################\n",
    "        # training model here\n",
    "\n",
    "        #############################################################\n",
    "        return\n",
    "\n",
    "    def predict(self, X):\n",
    "        ################# YOUR CODE COMES HERE ######################\n",
    "        # return predicted y\n",
    "\n",
    "        #############################################################\n",
    "        return\n",
    "\n",
    "    # You can add your own member functions\n",
    "\n",
    "model = LogisticRegression( ) ##### ADD YOUR OWN INPUT PARAMETERS\n",
    "\n",
    "# 모델 학습 및 예측\n",
    "model.fit(X_train_scaled, y_train)\n",
    "y_pred = model.predict(X_test_scaled)\n",
    "\n",
    "# 정확도 평가\n",
    "accuracy = accuracy_score(y_test, y_pred)\n",
    "print(f\"모델 정확도: {accuracy:.4f}\")\n"
   ]
  }
 ],
 "metadata": {
  "anaconda-cloud": {},
  "colab": {
   "provenance": [
    {
     "file_id": "1br9I49jKldloi3aOJ6HPGtq3RLU9h5ft",
     "timestamp": 1583728216996
    }
   ]
  },
  "kernelspec": {
   "display_name": "Python 3",
   "language": "python",
   "name": "python3"
  },
  "language_info": {
   "codemirror_mode": {
    "name": "ipython",
    "version": 3
   },
   "file_extension": ".py",
   "mimetype": "text/x-python",
   "name": "python",
   "nbconvert_exporter": "python",
   "pygments_lexer": "ipython3",
   "version": "3.10.12"
  }
 },
 "nbformat": 4,
 "nbformat_minor": 0
}
