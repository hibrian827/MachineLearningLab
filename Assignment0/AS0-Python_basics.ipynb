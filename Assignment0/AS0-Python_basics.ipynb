{
 "cells": [
  {
   "cell_type": "markdown",
   "metadata": {
    "id": "GjIaRT-5ULos"
   },
   "source": [
    "# M2608.001300 기계학습 기초 및 전기정보 응용<br> Assignment 0: Python Basics"
   ]
  },
  {
   "cell_type": "markdown",
   "metadata": {
    "id": "kbWpPPQKULow"
   },
   "source": [
    "## Problem 1: Function\n",
    "\n",
    "아래 binary search 함수를 구현해보세요.   \n",
    "YOUR CODE COMES HERE 라는 주석이 있는 곳을 채우면 됩니다."
   ]
  },
  {
   "cell_type": "code",
   "execution_count": 77,
   "metadata": {
    "executionInfo": {
     "elapsed": 7,
     "status": "ok",
     "timestamp": 1740291273028,
     "user": {
      "displayName": "Cody Song",
      "userId": "05250416816858502527"
     },
     "user_tz": -540
    },
    "id": "EyYXu1hzULoy"
   },
   "outputs": [],
   "source": [
    "def binary_search(arr, trgt):\n",
    "    length = len(arr)\n",
    "    left = 0\n",
    "    right = length\n",
    "    while left < right:\n",
    "        mid = (left + right) // 2\n",
    "        val = arr[mid]\n",
    "        if val < trgt:\n",
    "            left = mid + 1\n",
    "        elif val > trgt:\n",
    "            right = mid\n",
    "        else:\n",
    "            return mid\n",
    "    return -1  # Target not found (index of target)"
   ]
  },
  {
   "cell_type": "code",
   "execution_count": 78,
   "metadata": {
    "colab": {
     "base_uri": "https://localhost:8080/"
    },
    "executionInfo": {
     "elapsed": 14,
     "status": "ok",
     "timestamp": 1740291273984,
     "user": {
      "displayName": "Cody Song",
      "userId": "05250416816858502527"
     },
     "user_tz": -540
    },
    "id": "cT_dRw1vULo4",
    "outputId": "af78fb90-8fe0-4d35-8e8a-2d6b7921327b",
    "scrolled": false
   },
   "outputs": [
    {
     "name": "stdout",
     "output_type": "stream",
     "text": [
      "array:  [1, 3, 5, 9, 11, 12, 14, 16, 21, 24, 28, 31]\n",
      "target index: 2\n",
      "\n",
      "Q: Is the target found correctly?\n",
      "A: True\n"
     ]
    }
   ],
   "source": [
    "array = [1, 3, 5, 9, 11, 12, 14, 16, 21, 24, 28, 31]\n",
    "print('array: ', array)\n",
    "\n",
    "trgt_idx = binary_search(array, 5)\n",
    "print('target index:', trgt_idx)\n",
    "\n",
    "print()\n",
    "print('Q: Is the target found correctly?')\n",
    "print('A:', 2 == trgt_idx)"
   ]
  },
  {
   "cell_type": "markdown",
   "metadata": {
    "id": "v4K9EF1rULo-"
   },
   "source": [
    "## Problem 2: Classes\n",
    "\n",
    "Selection sort, insertion sort, merge sort를 아래 class의 instance method로 구현해 보세요. <br>\n",
    "YOUR CODE COMES HERE 라는 주석이 있는 곳을 채우면 됩니다."
   ]
  },
  {
   "cell_type": "code",
   "execution_count": null,
   "metadata": {
    "id": "XAtRozsxULo_"
   },
   "outputs": [],
   "source": [
    "class Sorter:\n",
    "    def __init__(self, method):\n",
    "        self.method = method\n",
    "\n",
    "    @staticmethod\n",
    "    def of(method):\n",
    "        return Sorter(method)\n",
    "\n",
    "    def sort(self, arr):\n",
    "        if self.method == 'selection_sort':\n",
    "            return self.selection_sort(arr)\n",
    "\n",
    "        elif self.method == 'insertion_sort':\n",
    "            return self.insertion_sort(arr)\n",
    "\n",
    "        elif self.method == 'merge_sort':\n",
    "            return self.merge_sort(arr)\n",
    "\n",
    "        else:\n",
    "            raise ValueError(f'Unknown method: {self.method}')\n",
    "\n",
    "    def selection_sort(self, arr):\n",
    "        for i in range(len(arr)):\n",
    "            min_idx = i\n",
    "            for j in range(i+1, len(arr)):\n",
    "                if arr[min_idx] > arr[j]:\n",
    "                    min_idx = j\n",
    "            temp = arr[i]\n",
    "            arr[i] = arr[min_idx]\n",
    "            arr[min_idx] = temp\n",
    "        return arr\n",
    "\n",
    "    def insertion_sort(self, arr):\n",
    "        for i in range(1, len(arr)):\n",
    "            val = arr[i]\n",
    "            for j in range(i - 1, -1, -1):\n",
    "                if arr[j] < val:\n",
    "                    arr[j + 1] = val\n",
    "                    break\n",
    "                arr[j + 1] = arr[j]\n",
    "                if j == 0:\n",
    "                    arr[0] = val\n",
    "        return arr\n",
    "\n",
    "    def merge_sort(self, arr):\n",
    "        length = len(arr)\n",
    "        i = 1\n",
    "        while i < length:\n",
    "            for j in range(0, length, i * 2):\n",
    "                temp = []\n",
    "                if j + i > length:\n",
    "                    break\n",
    "                arr1 = arr[j : j + i]\n",
    "                end = j + 2 * i\n",
    "                if j + 2 * i > length :\n",
    "                    end = length\n",
    "                arr2 = arr[j + i : end]\n",
    "                i1 = 0\n",
    "                i2 = 0\n",
    "                while i1 < len(arr1) and i2 < len(arr2):\n",
    "                    if arr1[i1] > arr2[i2]:\n",
    "                        temp.append(arr2[i2])\n",
    "                        i2 += 1\n",
    "                    else:\n",
    "                        temp.append(arr1[i1])\n",
    "                        i1 += 1\n",
    "                if i1 < len(arr1):\n",
    "                    temp += arr1[i1:]\n",
    "                if i2 < len(arr2):\n",
    "                    temp += arr2[i2:]\n",
    "                arr[j : end] = temp\n",
    "            i *= 2\n",
    "        return arr"
   ]
  },
  {
   "cell_type": "code",
   "execution_count": 108,
   "metadata": {
    "id": "E1tKG55IULpE",
    "outputId": "f167b091-e202-4604-b8ac-d4fcaf2005ec"
   },
   "outputs": [
    {
     "name": "stdout",
     "output_type": "stream",
     "text": [
      "selection_sort sorted? True\n",
      "insertion_sort sorted? True\n",
      "[6, 10, 4, 18, 2, 6, 3, 10, 16, 18, 6, 12, 12, 15, 8, 10, 1, 20, 5, 9]\n",
      "[4, 6, 10, 18, 2, 3, 6, 10, 6, 12, 16, 18, 8, 10, 12, 15, 1, 5, 9, 20]\n",
      "[2, 3, 4, 6, 6, 10, 10, 18, 6, 8, 10, 12, 12, 15, 16, 18, 1, 5, 9, 20]\n",
      "[2, 3, 4, 6, 6, 6, 8, 10, 10, 10, 12, 12, 15, 16, 18, 18, 1, 5, 9, 20]\n",
      "[1, 2, 3, 4, 5, 6, 6, 6, 8, 9, 10, 10, 10, 12, 12, 15, 16, 18, 18, 20]\n",
      "merge_sort sorted? True\n"
     ]
    }
   ],
   "source": [
    "import random\n",
    "\n",
    "algorithms = ['selection_sort', 'insertion_sort', 'merge_sort']\n",
    "for algorithm in algorithms:\n",
    "    array = [random.randint(0, 20) for _ in range(20)]\n",
    "    sorter = Sorter.of(algorithm)\n",
    "    array_sorted = sorter.sort(array)\n",
    "    print('%s sorted? %s' % (algorithm, sorted(array) == array_sorted))"
   ]
  }
 ],
 "metadata": {
  "anaconda-cloud": {},
  "colab": {
   "provenance": []
  },
  "kernelspec": {
   "display_name": "Python 3",
   "language": "python",
   "name": "python3"
  },
  "language_info": {
   "codemirror_mode": {
    "name": "ipython",
    "version": 3
   },
   "file_extension": ".py",
   "mimetype": "text/x-python",
   "name": "python",
   "nbconvert_exporter": "python",
   "pygments_lexer": "ipython3",
   "version": "3.10.12"
  }
 },
 "nbformat": 4,
 "nbformat_minor": 0
}
